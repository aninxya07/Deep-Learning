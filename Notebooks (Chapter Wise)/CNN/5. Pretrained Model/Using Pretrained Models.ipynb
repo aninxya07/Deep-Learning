{
 "cells": [
  {
   "cell_type": "code",
   "execution_count": 21,
   "id": "926f75ef-2dc5-4fb3-92bb-61ce8e2aa667",
   "metadata": {},
   "outputs": [],
   "source": [
    "from tensorflow.keras.applications import ResNet50\n",
    "from tensorflow.keras.applications.resnet50 import ResNet50\n",
    "from tensorflow.keras.preprocessing import image\n",
    "from tensorflow.keras.applications.resnet50 import preprocess_input, decode_predictions\n",
    "import numpy as np"
   ]
  },
  {
   "cell_type": "code",
   "execution_count": 22,
   "id": "869ac81e-8b93-4819-8dcc-9d4505177467",
   "metadata": {},
   "outputs": [],
   "source": [
    "model = ResNet50(weights='imagenet')"
   ]
  },
  {
   "cell_type": "markdown",
   "id": "49cd6d95-7e53-4ad0-bbb5-162910c242d3",
   "metadata": {},
   "source": [
    "Prediction 1 on a Chair"
   ]
  },
  {
   "cell_type": "code",
   "execution_count": 23,
   "id": "9db081c6-47df-4b0a-bede-8e9b7fdd3fd0",
   "metadata": {},
   "outputs": [],
   "source": [
    "img_path = 'img/chair.jpg'\n",
    "img = image.load_img(img_path, target_size = (224, 224))\n",
    "x = image.img_to_array(img)\n",
    "x = np.expand_dims(x, axis = 0)\n",
    "x = preprocess_input(x)"
   ]
  },
  {
   "cell_type": "code",
   "execution_count": 24,
   "id": "b6fabc0a-ddf3-4af8-a764-45c00a6ea80c",
   "metadata": {},
   "outputs": [
    {
     "name": "stdout",
     "output_type": "stream",
     "text": [
      "\u001b[1m1/1\u001b[0m \u001b[32m━━━━━━━━━━━━━━━━━━━━\u001b[0m\u001b[37m\u001b[0m \u001b[1m2s\u001b[0m 2s/step\n",
      "Predicted [('n04099969', 'rocking_chair', 0.6295588), ('n03376595', 'folding_chair', 0.15637979), ('n03201208', 'dining_table', 0.055420276)]\n"
     ]
    }
   ],
   "source": [
    "preds = model.predict(x)\n",
    "print('Predicted', decode_predictions(preds, top = 3)[0])"
   ]
  },
  {
   "cell_type": "markdown",
   "id": "8e71e00c-1f6c-4a46-b89b-66a5bb3b679b",
   "metadata": {},
   "source": [
    "Prediction 2 on a Cat"
   ]
  },
  {
   "cell_type": "code",
   "execution_count": 25,
   "id": "a20dba0c-7587-4055-8c67-6432cc4231af",
   "metadata": {},
   "outputs": [],
   "source": [
    "img_path = 'img/cat.jpg'\n",
    "img = image.load_img(img_path, target_size = (224, 224))\n",
    "x = image.img_to_array(img)\n",
    "x = np.expand_dims(x, axis = 0)\n",
    "x = preprocess_input(x)"
   ]
  },
  {
   "cell_type": "code",
   "execution_count": 26,
   "id": "883d147e-5308-49fa-9086-875e97ffa0bb",
   "metadata": {},
   "outputs": [
    {
     "name": "stdout",
     "output_type": "stream",
     "text": [
      "\u001b[1m1/1\u001b[0m \u001b[32m━━━━━━━━━━━━━━━━━━━━\u001b[0m\u001b[37m\u001b[0m \u001b[1m0s\u001b[0m 70ms/step\n",
      "Predicted [('n02124075', 'Egyptian_cat', 0.4266508), ('n02123159', 'tiger_cat', 0.3410125), ('n02123045', 'tabby', 0.09033484)]\n"
     ]
    }
   ],
   "source": [
    "preds = model.predict(x)\n",
    "print('Predicted', decode_predictions(preds, top = 3)[0])"
   ]
  },
  {
   "cell_type": "markdown",
   "id": "678b874b-cb20-44d9-a893-daab0e367a26",
   "metadata": {},
   "source": [
    "Prediction 3 on a Dog"
   ]
  },
  {
   "cell_type": "code",
   "execution_count": 27,
   "id": "41ce483a-a0b4-497d-9ff9-c9ebb1e6275c",
   "metadata": {},
   "outputs": [],
   "source": [
    "img_path = 'img/dog.jpg'\n",
    "img = image.load_img(img_path, target_size = (224, 224))\n",
    "x = image.img_to_array(img)\n",
    "x = np.expand_dims(x, axis = 0)\n",
    "x = preprocess_input(x)"
   ]
  },
  {
   "cell_type": "code",
   "execution_count": 28,
   "id": "e04296ed-8a1f-4b70-8ff8-d53d9fac9120",
   "metadata": {},
   "outputs": [
    {
     "name": "stdout",
     "output_type": "stream",
     "text": [
      "\u001b[1m1/1\u001b[0m \u001b[32m━━━━━━━━━━━━━━━━━━━━\u001b[0m\u001b[37m\u001b[0m \u001b[1m0s\u001b[0m 85ms/step\n",
      "Predicted [('n02099601', 'golden_retriever', 0.81408715), ('n02111500', 'Great_Pyrenees', 0.057608105), ('n02086079', 'Pekinese', 0.029324286)]\n"
     ]
    }
   ],
   "source": [
    "preds = model.predict(x)\n",
    "print('Predicted', decode_predictions(preds, top = 3)[0])"
   ]
  }
 ],
 "metadata": {
  "kernelspec": {
   "display_name": "Python 3 (ipykernel)",
   "language": "python",
   "name": "python3"
  },
  "language_info": {
   "codemirror_mode": {
    "name": "ipython",
    "version": 3
   },
   "file_extension": ".py",
   "mimetype": "text/x-python",
   "name": "python",
   "nbconvert_exporter": "python",
   "pygments_lexer": "ipython3",
   "version": "3.11.7"
  }
 },
 "nbformat": 4,
 "nbformat_minor": 5
}
