{
  "nbformat": 4,
  "nbformat_minor": 0,
  "metadata": {
    "colab": {
      "provenance": [],
      "gpuType": "T4"
    },
    "kernelspec": {
      "name": "python3",
      "display_name": "Python 3"
    },
    "language_info": {
      "name": "python"
    },
    "accelerator": "GPU"
  },
  "cells": [
    {
      "cell_type": "code",
      "execution_count": 6,
      "metadata": {
        "id": "df19NawJ9PfU"
      },
      "outputs": [],
      "source": [
        "import tensorflow as tf\n",
        "from tensorflow import keras\n",
        "from keras.datasets import imdb\n",
        "from keras.preprocessing.sequence import pad_sequences\n",
        "from keras.models import Sequential\n",
        "from keras.layers import Embedding, SimpleRNN, Dense, LSTM, GRU, Bidirectional"
      ]
    },
    {
      "cell_type": "code",
      "source": [
        "# Load the IMDb dataset\n",
        "(x_train, y_train), (x_test, y_test) = imdb.load_data(num_words=10000)\n",
        "\n",
        "# Pad sequences to have the same length\n",
        "x_train = pad_sequences(x_train, maxlen=100)\n",
        "x_test = pad_sequences(x_test, maxlen=100)"
      ],
      "metadata": {
        "colab": {
          "base_uri": "https://localhost:8080/"
        },
        "id": "oWABj3nR9Y7R",
        "outputId": "b2e2a7ff-2503-41a3-96fa-b08b714fca0c"
      },
      "execution_count": 2,
      "outputs": [
        {
          "output_type": "stream",
          "name": "stdout",
          "text": [
            "Downloading data from https://storage.googleapis.com/tensorflow/tf-keras-datasets/imdb.npz\n",
            "17464789/17464789 [==============================] - 2s 0us/step\n"
          ]
        }
      ]
    },
    {
      "cell_type": "code",
      "source": [
        "# Define the Simple RNN model\n",
        "\n",
        "model = Sequential()\n",
        "model.add(Embedding(10000, 32, input_length = 100))\n",
        "model.add(SimpleRNN(5))\n",
        "model.add(Dense(1, activation = 'sigmoid'))\n",
        "\n",
        "model.summary()"
      ],
      "metadata": {
        "colab": {
          "base_uri": "https://localhost:8080/"
        },
        "id": "FAS8hlEF9Z5w",
        "outputId": "ef74413b-8f96-471a-b7ba-32ffa917ae60"
      },
      "execution_count": 3,
      "outputs": [
        {
          "output_type": "stream",
          "name": "stdout",
          "text": [
            "Model: \"sequential\"\n",
            "_________________________________________________________________\n",
            " Layer (type)                Output Shape              Param #   \n",
            "=================================================================\n",
            " embedding (Embedding)       (None, 100, 32)           320000    \n",
            "                                                                 \n",
            " simple_rnn (SimpleRNN)      (None, 5)                 190       \n",
            "                                                                 \n",
            " dense (Dense)               (None, 1)                 6         \n",
            "                                                                 \n",
            "=================================================================\n",
            "Total params: 320196 (1.22 MB)\n",
            "Trainable params: 320196 (1.22 MB)\n",
            "Non-trainable params: 0 (0.00 Byte)\n",
            "_________________________________________________________________\n"
          ]
        }
      ]
    },
    {
      "cell_type": "code",
      "source": [
        "# Compile the model\n",
        "model.compile(optimizer='adam', loss='binary_crossentropy', metrics=['accuracy'])"
      ],
      "metadata": {
        "id": "mf6xLMqQ9ld3"
      },
      "execution_count": 4,
      "outputs": []
    },
    {
      "cell_type": "code",
      "source": [
        "# Train the model\n",
        "history = model.fit(x_train, y_train, epochs=5, batch_size=32, validation_split=0.2)"
      ],
      "metadata": {
        "colab": {
          "base_uri": "https://localhost:8080/"
        },
        "id": "WzM65Zl39oIt",
        "outputId": "87aa2d43-8480-4002-e6da-1ddc4537d2c6"
      },
      "execution_count": 5,
      "outputs": [
        {
          "output_type": "stream",
          "name": "stdout",
          "text": [
            "Epoch 1/5\n",
            "625/625 [==============================] - 95s 147ms/step - loss: 0.6182 - accuracy: 0.6526 - val_loss: 0.5166 - val_accuracy: 0.7622\n",
            "Epoch 2/5\n",
            "625/625 [==============================] - 54s 87ms/step - loss: 0.4307 - accuracy: 0.8147 - val_loss: 0.4695 - val_accuracy: 0.7930\n",
            "Epoch 3/5\n",
            "625/625 [==============================] - 58s 92ms/step - loss: 0.3250 - accuracy: 0.8709 - val_loss: 0.4678 - val_accuracy: 0.7974\n",
            "Epoch 4/5\n",
            "625/625 [==============================] - 63s 100ms/step - loss: 0.2434 - accuracy: 0.9111 - val_loss: 0.5083 - val_accuracy: 0.7830\n",
            "Epoch 5/5\n",
            "625/625 [==============================] - 72s 116ms/step - loss: 0.1908 - accuracy: 0.9345 - val_loss: 0.5171 - val_accuracy: 0.7916\n"
          ]
        }
      ]
    },
    {
      "cell_type": "code",
      "source": [
        "# Define another model but it's Bidirectional RNN model\n",
        "\n",
        "model2 = Sequential()\n",
        "model2.add(Embedding(10000, 32, input_length = 100))\n",
        "model2.add(Bidirectional(SimpleRNN(5)))\n",
        "model2.add(Dense(1, activation = 'sigmoid'))\n",
        "\n",
        "model2.summary()"
      ],
      "metadata": {
        "colab": {
          "base_uri": "https://localhost:8080/"
        },
        "id": "MHyzbbUd9pRO",
        "outputId": "13f7ae64-a181-4684-b138-de01679d615e"
      },
      "execution_count": 7,
      "outputs": [
        {
          "output_type": "stream",
          "name": "stdout",
          "text": [
            "Model: \"sequential_1\"\n",
            "_________________________________________________________________\n",
            " Layer (type)                Output Shape              Param #   \n",
            "=================================================================\n",
            " embedding_1 (Embedding)     (None, 100, 32)           320000    \n",
            "                                                                 \n",
            " bidirectional (Bidirection  (None, 10)                380       \n",
            " al)                                                             \n",
            "                                                                 \n",
            " dense_1 (Dense)             (None, 1)                 11        \n",
            "                                                                 \n",
            "=================================================================\n",
            "Total params: 320391 (1.22 MB)\n",
            "Trainable params: 320391 (1.22 MB)\n",
            "Non-trainable params: 0 (0.00 Byte)\n",
            "_________________________________________________________________\n"
          ]
        }
      ]
    },
    {
      "cell_type": "code",
      "source": [
        "# Compile the model\n",
        "model2.compile(optimizer='adam', loss='binary_crossentropy', metrics=['accuracy'])"
      ],
      "metadata": {
        "id": "rujndTiY-YJB"
      },
      "execution_count": 8,
      "outputs": []
    },
    {
      "cell_type": "code",
      "source": [
        "# Train the model\n",
        "history2 = model2.fit(x_train, y_train, epochs=5, batch_size=32, validation_split=0.2)"
      ],
      "metadata": {
        "colab": {
          "base_uri": "https://localhost:8080/"
        },
        "id": "oyg8Y-cb-jnB",
        "outputId": "e37c6ad2-3ce7-41d9-ebdc-884ba023409a"
      },
      "execution_count": 9,
      "outputs": [
        {
          "output_type": "stream",
          "name": "stdout",
          "text": [
            "Epoch 1/5\n",
            "625/625 [==============================] - 104s 163ms/step - loss: 0.6400 - accuracy: 0.6194 - val_loss: 0.5410 - val_accuracy: 0.7356\n",
            "Epoch 2/5\n",
            "625/625 [==============================] - 92s 148ms/step - loss: 0.3950 - accuracy: 0.8355 - val_loss: 0.4822 - val_accuracy: 0.7726\n",
            "Epoch 3/5\n",
            "625/625 [==============================] - 88s 142ms/step - loss: 0.2512 - accuracy: 0.9071 - val_loss: 0.4925 - val_accuracy: 0.7880\n",
            "Epoch 4/5\n",
            "625/625 [==============================] - 89s 142ms/step - loss: 0.1183 - accuracy: 0.9664 - val_loss: 0.5951 - val_accuracy: 0.7644\n",
            "Epoch 5/5\n",
            "625/625 [==============================] - 87s 139ms/step - loss: 0.0583 - accuracy: 0.9882 - val_loss: 0.6497 - val_accuracy: 0.7594\n"
          ]
        }
      ]
    },
    {
      "cell_type": "code",
      "source": [
        "# Define another model but it's Bidirectional LSTM model\n",
        "\n",
        "model3 = Sequential()\n",
        "model3.add(Embedding(10000, 32, input_length = 100))\n",
        "model3.add(Bidirectional(LSTM(5)))\n",
        "model3.add(Dense(1, activation = 'sigmoid'))\n",
        "\n",
        "model3.summary()"
      ],
      "metadata": {
        "colab": {
          "base_uri": "https://localhost:8080/"
        },
        "id": "fuj1owRO-mdJ",
        "outputId": "b9062c78-16df-4d5d-b748-396e4f2187ff"
      },
      "execution_count": 10,
      "outputs": [
        {
          "output_type": "stream",
          "name": "stdout",
          "text": [
            "Model: \"sequential_2\"\n",
            "_________________________________________________________________\n",
            " Layer (type)                Output Shape              Param #   \n",
            "=================================================================\n",
            " embedding_2 (Embedding)     (None, 100, 32)           320000    \n",
            "                                                                 \n",
            " bidirectional_1 (Bidirecti  (None, 10)                1520      \n",
            " onal)                                                           \n",
            "                                                                 \n",
            " dense_2 (Dense)             (None, 1)                 11        \n",
            "                                                                 \n",
            "=================================================================\n",
            "Total params: 321531 (1.23 MB)\n",
            "Trainable params: 321531 (1.23 MB)\n",
            "Non-trainable params: 0 (0.00 Byte)\n",
            "_________________________________________________________________\n"
          ]
        }
      ]
    },
    {
      "cell_type": "code",
      "source": [
        "# Compile the model\n",
        "model3.compile(optimizer='adam', loss='binary_crossentropy', metrics=['accuracy'])"
      ],
      "metadata": {
        "id": "kPZxcOzC-s8f"
      },
      "execution_count": 11,
      "outputs": []
    },
    {
      "cell_type": "code",
      "source": [
        "# Train the model\n",
        "history3 = model3.fit(x_train, y_train, epochs=5, batch_size=32, validation_split=0.2)"
      ],
      "metadata": {
        "colab": {
          "base_uri": "https://localhost:8080/"
        },
        "id": "-ah9WWcS-vNR",
        "outputId": "ed60f0d9-94a2-4716-daf3-0ba53870097c"
      },
      "execution_count": 12,
      "outputs": [
        {
          "output_type": "stream",
          "name": "stdout",
          "text": [
            "Epoch 1/5\n",
            "625/625 [==============================] - 26s 36ms/step - loss: 0.5069 - accuracy: 0.7537 - val_loss: 0.4238 - val_accuracy: 0.8198\n",
            "Epoch 2/5\n",
            "625/625 [==============================] - 11s 17ms/step - loss: 0.3234 - accuracy: 0.8714 - val_loss: 0.3861 - val_accuracy: 0.8360\n",
            "Epoch 3/5\n",
            "625/625 [==============================] - 11s 17ms/step - loss: 0.2352 - accuracy: 0.9150 - val_loss: 0.3775 - val_accuracy: 0.8408\n",
            "Epoch 4/5\n",
            "625/625 [==============================] - 8s 13ms/step - loss: 0.1782 - accuracy: 0.9403 - val_loss: 0.4210 - val_accuracy: 0.8370\n",
            "Epoch 5/5\n",
            "625/625 [==============================] - 8s 13ms/step - loss: 0.1366 - accuracy: 0.9551 - val_loss: 0.4368 - val_accuracy: 0.8406\n"
          ]
        }
      ]
    },
    {
      "cell_type": "code",
      "source": [
        "# Define another model but it's Bidirectional GRU model\n",
        "\n",
        "model4 = Sequential()\n",
        "model4.add(Embedding(10000, 32, input_length = 100))\n",
        "model4.add(Bidirectional(LSTM(5)))\n",
        "model4.add(Dense(1, activation = 'sigmoid'))\n",
        "\n",
        "model4.summary()"
      ],
      "metadata": {
        "colab": {
          "base_uri": "https://localhost:8080/"
        },
        "id": "0u837QSx-ycO",
        "outputId": "71d88394-7e03-4c0f-c806-801b1a988ad7"
      },
      "execution_count": 13,
      "outputs": [
        {
          "output_type": "stream",
          "name": "stdout",
          "text": [
            "Model: \"sequential_3\"\n",
            "_________________________________________________________________\n",
            " Layer (type)                Output Shape              Param #   \n",
            "=================================================================\n",
            " embedding_3 (Embedding)     (None, 100, 32)           320000    \n",
            "                                                                 \n",
            " bidirectional_2 (Bidirecti  (None, 10)                1520      \n",
            " onal)                                                           \n",
            "                                                                 \n",
            " dense_3 (Dense)             (None, 1)                 11        \n",
            "                                                                 \n",
            "=================================================================\n",
            "Total params: 321531 (1.23 MB)\n",
            "Trainable params: 321531 (1.23 MB)\n",
            "Non-trainable params: 0 (0.00 Byte)\n",
            "_________________________________________________________________\n"
          ]
        }
      ]
    },
    {
      "cell_type": "code",
      "source": [
        "# Compile the model\n",
        "model4.compile(optimizer='adam', loss='binary_crossentropy', metrics=['accuracy'])"
      ],
      "metadata": {
        "id": "UNjPhaNa-3Cm"
      },
      "execution_count": 14,
      "outputs": []
    },
    {
      "cell_type": "code",
      "source": [
        "# Train the model\n",
        "history4 = model4.fit(x_train, y_train, epochs=5, batch_size=32, validation_split=0.2)"
      ],
      "metadata": {
        "colab": {
          "base_uri": "https://localhost:8080/"
        },
        "id": "lAw8z7hO-5f_",
        "outputId": "78c5ec6f-ae34-4fdc-8d87-a0dbddf08070"
      },
      "execution_count": 15,
      "outputs": [
        {
          "output_type": "stream",
          "name": "stdout",
          "text": [
            "Epoch 1/5\n",
            "625/625 [==============================] - 26s 37ms/step - loss: 0.4847 - accuracy: 0.7657 - val_loss: 0.3856 - val_accuracy: 0.8366\n",
            "Epoch 2/5\n",
            "625/625 [==============================] - 10s 16ms/step - loss: 0.2815 - accuracy: 0.8878 - val_loss: 0.3582 - val_accuracy: 0.8404\n",
            "Epoch 3/5\n",
            "625/625 [==============================] - 9s 15ms/step - loss: 0.2046 - accuracy: 0.9257 - val_loss: 0.3776 - val_accuracy: 0.8368\n",
            "Epoch 4/5\n",
            "625/625 [==============================] - 8s 13ms/step - loss: 0.1521 - accuracy: 0.9470 - val_loss: 0.4323 - val_accuracy: 0.8384\n",
            "Epoch 5/5\n",
            "625/625 [==============================] - 9s 14ms/step - loss: 0.1176 - accuracy: 0.9600 - val_loss: 0.4429 - val_accuracy: 0.8334\n"
          ]
        }
      ]
    }
  ]
}