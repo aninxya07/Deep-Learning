{
  "nbformat": 4,
  "nbformat_minor": 0,
  "metadata": {
    "colab": {
      "provenance": [],
      "gpuType": "T4"
    },
    "kernelspec": {
      "name": "python3",
      "display_name": "Python 3"
    },
    "language_info": {
      "name": "python"
    },
    "accelerator": "GPU"
  },
  "cells": [
    {
      "cell_type": "code",
      "execution_count": 1,
      "metadata": {
        "id": "vR6C9i-fyLvG"
      },
      "outputs": [],
      "source": [
        "docs = ['go india',\n",
        "\t\t'india india',\n",
        "\t\t'hip hip hurray',\n",
        "\t\t'jeetega bhai jeetega india jeetega',\n",
        "\t\t'bharat mata ki jai',\n",
        "\t\t'kohli kohli',\n",
        "\t\t'sachin sachin',\n",
        "\t\t'dhoni dhoni',\n",
        "\t\t'modi ji ki jai',\n",
        "\t\t'inquilab zindabad']"
      ]
    },
    {
      "cell_type": "code",
      "source": [
        "from keras.preprocessing.text import Tokenizer\n",
        "tokenizer = Tokenizer()"
      ],
      "metadata": {
        "id": "xRzvJNh1mRQW"
      },
      "execution_count": 2,
      "outputs": []
    },
    {
      "cell_type": "code",
      "source": [
        "tokenizer.fit_on_texts(docs)"
      ],
      "metadata": {
        "id": "2IhkPg6YmRYT"
      },
      "execution_count": 3,
      "outputs": []
    },
    {
      "cell_type": "code",
      "source": [
        "len(tokenizer.word_index)"
      ],
      "metadata": {
        "colab": {
          "base_uri": "https://localhost:8080/"
        },
        "id": "dP5g_Tmin4AG",
        "outputId": "277cc86e-5bc3-4222-cd84-efa248358dfc"
      },
      "execution_count": 4,
      "outputs": [
        {
          "output_type": "execute_result",
          "data": {
            "text/plain": [
              "17"
            ]
          },
          "metadata": {},
          "execution_count": 4
        }
      ]
    },
    {
      "cell_type": "code",
      "source": [
        "sequences = tokenizer.texts_to_sequences(docs)\n",
        "sequences"
      ],
      "metadata": {
        "colab": {
          "base_uri": "https://localhost:8080/"
        },
        "id": "lOv8NrFFmRcE",
        "outputId": "15a08a64-100a-40b5-8a3e-6192ccc2c100"
      },
      "execution_count": 5,
      "outputs": [
        {
          "output_type": "execute_result",
          "data": {
            "text/plain": [
              "[[9, 1],\n",
              " [1, 1],\n",
              " [3, 3, 10],\n",
              " [2, 11, 2, 1, 2],\n",
              " [12, 13, 4, 5],\n",
              " [6, 6],\n",
              " [7, 7],\n",
              " [8, 8],\n",
              " [14, 15, 4, 5],\n",
              " [16, 17]]"
            ]
          },
          "metadata": {},
          "execution_count": 5
        }
      ]
    },
    {
      "cell_type": "code",
      "source": [
        "from keras.utils import pad_sequences\n",
        "sequences = pad_sequences(sequences,padding='post')\n",
        "sequences"
      ],
      "metadata": {
        "colab": {
          "base_uri": "https://localhost:8080/"
        },
        "id": "KG1RqcLnmRkA",
        "outputId": "d7b0b467-2369-4c76-c8a5-15c2d419d093"
      },
      "execution_count": 6,
      "outputs": [
        {
          "output_type": "execute_result",
          "data": {
            "text/plain": [
              "array([[ 9,  1,  0,  0,  0],\n",
              "       [ 1,  1,  0,  0,  0],\n",
              "       [ 3,  3, 10,  0,  0],\n",
              "       [ 2, 11,  2,  1,  2],\n",
              "       [12, 13,  4,  5,  0],\n",
              "       [ 6,  6,  0,  0,  0],\n",
              "       [ 7,  7,  0,  0,  0],\n",
              "       [ 8,  8,  0,  0,  0],\n",
              "       [14, 15,  4,  5,  0],\n",
              "       [16, 17,  0,  0,  0]], dtype=int32)"
            ]
          },
          "metadata": {},
          "execution_count": 6
        }
      ]
    },
    {
      "cell_type": "code",
      "source": [
        "from keras import Sequential\n",
        "from keras.layers import Dense,SimpleRNN,Embedding,Flatten"
      ],
      "metadata": {
        "id": "OqLqA4CToPjb"
      },
      "execution_count": 7,
      "outputs": []
    },
    {
      "cell_type": "code",
      "source": [
        "model = Sequential()\n",
        "model.add(Embedding(17,output_dim=2,input_length=5))\n",
        "\n",
        "model.summary()"
      ],
      "metadata": {
        "colab": {
          "base_uri": "https://localhost:8080/"
        },
        "id": "ETWEOn4wmRzd",
        "outputId": "acd25a5a-963c-4852-b526-319b687ebc8f"
      },
      "execution_count": 8,
      "outputs": [
        {
          "output_type": "stream",
          "name": "stdout",
          "text": [
            "Model: \"sequential\"\n",
            "_________________________________________________________________\n",
            " Layer (type)                Output Shape              Param #   \n",
            "=================================================================\n",
            " embedding (Embedding)       (None, 5, 2)              34        \n",
            "                                                                 \n",
            "=================================================================\n",
            "Total params: 34 (136.00 Byte)\n",
            "Trainable params: 34 (136.00 Byte)\n",
            "Non-trainable params: 0 (0.00 Byte)\n",
            "_________________________________________________________________\n"
          ]
        }
      ]
    },
    {
      "cell_type": "code",
      "source": [
        "model.compile('adam','accuracy')"
      ],
      "metadata": {
        "id": "R68ghDfNmSAC"
      },
      "execution_count": 9,
      "outputs": []
    },
    {
      "cell_type": "code",
      "source": [
        "pred = model.predict(sequences)\n",
        "print(pred)"
      ],
      "metadata": {
        "colab": {
          "base_uri": "https://localhost:8080/"
        },
        "id": "ooYWO2NwoKoQ",
        "outputId": "d196cea9-232e-424d-e451-0e62ad5f753c"
      },
      "execution_count": 10,
      "outputs": [
        {
          "output_type": "stream",
          "name": "stdout",
          "text": [
            "1/1 [==============================] - 0s 119ms/step\n",
            "[[[-0.02870961 -0.01315786]\n",
            "  [ 0.00626057  0.01538303]\n",
            "  [-0.00660385 -0.02207716]\n",
            "  [-0.00660385 -0.02207716]\n",
            "  [-0.00660385 -0.02207716]]\n",
            "\n",
            " [[ 0.00626057  0.01538303]\n",
            "  [ 0.00626057  0.01538303]\n",
            "  [-0.00660385 -0.02207716]\n",
            "  [-0.00660385 -0.02207716]\n",
            "  [-0.00660385 -0.02207716]]\n",
            "\n",
            " [[-0.01716299  0.00355042]\n",
            "  [-0.01716299  0.00355042]\n",
            "  [ 0.02746356  0.00834594]\n",
            "  [-0.00660385 -0.02207716]\n",
            "  [-0.00660385 -0.02207716]]\n",
            "\n",
            " [[ 0.01095576  0.03653466]\n",
            "  [ 0.00047567  0.01267029]\n",
            "  [ 0.01095576  0.03653466]\n",
            "  [ 0.00626057  0.01538303]\n",
            "  [ 0.01095576  0.03653466]]\n",
            "\n",
            " [[-0.0466735  -0.03932555]\n",
            "  [ 0.0425767   0.00903357]\n",
            "  [ 0.02174748  0.00065402]\n",
            "  [-0.00144638 -0.04666355]\n",
            "  [-0.00660385 -0.02207716]]\n",
            "\n",
            " [[-0.03427042 -0.04517403]\n",
            "  [-0.03427042 -0.04517403]\n",
            "  [-0.00660385 -0.02207716]\n",
            "  [-0.00660385 -0.02207716]\n",
            "  [-0.00660385 -0.02207716]]\n",
            "\n",
            " [[ 0.00965139 -0.03054193]\n",
            "  [ 0.00965139 -0.03054193]\n",
            "  [-0.00660385 -0.02207716]\n",
            "  [-0.00660385 -0.02207716]\n",
            "  [-0.00660385 -0.02207716]]\n",
            "\n",
            " [[ 0.0390937   0.03166984]\n",
            "  [ 0.0390937   0.03166984]\n",
            "  [-0.00660385 -0.02207716]\n",
            "  [-0.00660385 -0.02207716]\n",
            "  [-0.00660385 -0.02207716]]\n",
            "\n",
            " [[ 0.01349303  0.03325658]\n",
            "  [-0.04011694 -0.04491867]\n",
            "  [ 0.02174748  0.00065402]\n",
            "  [-0.00144638 -0.04666355]\n",
            "  [-0.00660385 -0.02207716]]\n",
            "\n",
            " [[ 0.03580621 -0.03081241]\n",
            "  [ 0.          0.        ]\n",
            "  [-0.00660385 -0.02207716]\n",
            "  [-0.00660385 -0.02207716]\n",
            "  [-0.00660385 -0.02207716]]]\n"
          ]
        }
      ]
    },
    {
      "cell_type": "code",
      "source": [
        "from keras.datasets import imdb\n",
        "from keras.preprocessing.text import Tokenizer\n",
        "from keras.utils import pad_sequences\n",
        "from keras import Sequential\n",
        "from keras.layers import Dense,SimpleRNN,Embedding,Flatten"
      ],
      "metadata": {
        "id": "yrM0IXVamPLn"
      },
      "execution_count": 11,
      "outputs": []
    },
    {
      "cell_type": "code",
      "source": [
        "(X_train,y_train),(X_test,y_test) = imdb.load_data()"
      ],
      "metadata": {
        "id": "4aH4HVjcyq1f",
        "colab": {
          "base_uri": "https://localhost:8080/"
        },
        "outputId": "b12f31af-7358-499e-c95a-4348e8f43861"
      },
      "execution_count": 12,
      "outputs": [
        {
          "output_type": "stream",
          "name": "stdout",
          "text": [
            "Downloading data from https://storage.googleapis.com/tensorflow/tf-keras-datasets/imdb.npz\n",
            "17464789/17464789 [==============================] - 0s 0us/step\n"
          ]
        }
      ]
    },
    {
      "cell_type": "code",
      "source": [
        "X_train = pad_sequences(X_train,padding='post',maxlen=50)\n",
        "X_test = pad_sequences(X_test,padding='post',maxlen=50)"
      ],
      "metadata": {
        "id": "cu2UOZGUzAEF"
      },
      "execution_count": 13,
      "outputs": []
    },
    {
      "cell_type": "code",
      "source": [
        "X_train.shape"
      ],
      "metadata": {
        "colab": {
          "base_uri": "https://localhost:8080/"
        },
        "id": "aO412Krkz7EO",
        "outputId": "f23b1d90-7c7c-41c6-c4c3-21b8b1e1a46d"
      },
      "execution_count": 14,
      "outputs": [
        {
          "output_type": "execute_result",
          "data": {
            "text/plain": [
              "(25000, 50)"
            ]
          },
          "metadata": {},
          "execution_count": 14
        }
      ]
    },
    {
      "cell_type": "code",
      "source": [
        "model = Sequential()\n",
        "model.add(Embedding(10000, output_dim = 2, input_length = 50))\n",
        "model.add(SimpleRNN(32,return_sequences=False))\n",
        "model.add(Dense(1, activation='sigmoid'))\n",
        "\n",
        "model.summary()"
      ],
      "metadata": {
        "colab": {
          "base_uri": "https://localhost:8080/"
        },
        "id": "WWXhm8vP_DO-",
        "outputId": "40a8985e-1474-43b0-9a1f-c49bc97c031a"
      },
      "execution_count": 18,
      "outputs": [
        {
          "output_type": "stream",
          "name": "stdout",
          "text": [
            "Model: \"sequential_2\"\n",
            "_________________________________________________________________\n",
            " Layer (type)                Output Shape              Param #   \n",
            "=================================================================\n",
            " embedding_2 (Embedding)     (None, 50, 2)             20000     \n",
            "                                                                 \n",
            " simple_rnn_1 (SimpleRNN)    (None, 32)                1120      \n",
            "                                                                 \n",
            " dense_1 (Dense)             (None, 1)                 33        \n",
            "                                                                 \n",
            "=================================================================\n",
            "Total params: 21153 (82.63 KB)\n",
            "Trainable params: 21153 (82.63 KB)\n",
            "Non-trainable params: 0 (0.00 Byte)\n",
            "_________________________________________________________________\n"
          ]
        }
      ]
    },
    {
      "cell_type": "code",
      "source": [
        "model.compile(optimizer='adam', loss='binary_crossentropy', metrics=['accuracy'])\n",
        "\n",
        "history = model.fit(X_train, y_train, epochs = 5, validation_data = (X_test,y_test))"
      ],
      "metadata": {
        "colab": {
          "base_uri": "https://localhost:8080/"
        },
        "id": "AGCAZ7Rm_fqH",
        "outputId": "dd246656-8f05-4137-e9f2-3f80304d1ecc"
      },
      "execution_count": 19,
      "outputs": [
        {
          "output_type": "stream",
          "name": "stdout",
          "text": [
            "Epoch 1/5\n",
            "782/782 [==============================] - 59s 74ms/step - loss: 0.5749 - accuracy: 0.6749 - val_loss: 0.4299 - val_accuracy: 0.8018\n",
            "Epoch 2/5\n",
            "782/782 [==============================] - 42s 54ms/step - loss: 0.3796 - accuracy: 0.8357 - val_loss: 0.4148 - val_accuracy: 0.8126\n",
            "Epoch 3/5\n",
            "782/782 [==============================] - 40s 51ms/step - loss: 0.3199 - accuracy: 0.8690 - val_loss: 0.4373 - val_accuracy: 0.8071\n",
            "Epoch 4/5\n",
            "782/782 [==============================] - 39s 50ms/step - loss: 0.2799 - accuracy: 0.8898 - val_loss: 0.4695 - val_accuracy: 0.8019\n",
            "Epoch 5/5\n",
            "782/782 [==============================] - 40s 51ms/step - loss: 0.2547 - accuracy: 0.9029 - val_loss: 0.5197 - val_accuracy: 0.7898\n"
          ]
        }
      ]
    },
    {
      "cell_type": "code",
      "source": [],
      "metadata": {
        "id": "7HVBQEkAwHKa"
      },
      "execution_count": null,
      "outputs": []
    }
  ]
}