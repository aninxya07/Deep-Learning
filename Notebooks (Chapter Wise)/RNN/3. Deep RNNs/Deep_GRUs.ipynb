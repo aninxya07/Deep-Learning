{
  "nbformat": 4,
  "nbformat_minor": 0,
  "metadata": {
    "colab": {
      "provenance": [],
      "gpuType": "T4"
    },
    "kernelspec": {
      "name": "python3",
      "display_name": "Python 3"
    },
    "language_info": {
      "name": "python"
    },
    "accelerator": "GPU"
  },
  "cells": [
    {
      "cell_type": "code",
      "execution_count": 1,
      "metadata": {
        "id": "ke1qUqOQ5u6y"
      },
      "outputs": [],
      "source": [
        "import tensorflow as tf\n",
        "from tensorflow import keras\n",
        "from keras.datasets import imdb\n",
        "from keras.preprocessing.sequence import pad_sequences\n",
        "from keras.models import Sequential\n",
        "from keras.layers import Embedding, SimpleRNN, Dense,LSTM,GRU"
      ]
    },
    {
      "cell_type": "code",
      "source": [
        "# Load the IMDb dataset\n",
        "(x_train, y_train), (x_test, y_test) = imdb.load_data(num_words=10000)\n",
        "\n",
        "# Pad sequences to have the same length\n",
        "x_train = pad_sequences(x_train, maxlen=100)\n",
        "x_test = pad_sequences(x_test, maxlen=100)"
      ],
      "metadata": {
        "colab": {
          "base_uri": "https://localhost:8080/"
        },
        "id": "W9F-bN_k5vmV",
        "outputId": "9d726430-2e59-4946-ab1f-1b89fbe54f15"
      },
      "execution_count": 2,
      "outputs": [
        {
          "output_type": "stream",
          "name": "stdout",
          "text": [
            "Downloading data from https://storage.googleapis.com/tensorflow/tf-keras-datasets/imdb.npz\n",
            "17464789/17464789 [==============================] - 0s 0us/step\n"
          ]
        }
      ]
    },
    {
      "cell_type": "code",
      "source": [
        "# Define the GRU model\n",
        "\n",
        "model = Sequential()\n",
        "model.add(Embedding(10000, 32, input_length = 100))\n",
        "model.add(GRU(5, return_sequences = True))\n",
        "model.add(GRU(5))\n",
        "model.add(Dense(1, activation = 'sigmoid'))\n",
        "\n",
        "model.summary()"
      ],
      "metadata": {
        "colab": {
          "base_uri": "https://localhost:8080/"
        },
        "id": "fuOlpWFH5wzA",
        "outputId": "fd3913df-52c7-4147-95b2-4fc8ccf2c5a2"
      },
      "execution_count": 3,
      "outputs": [
        {
          "output_type": "stream",
          "name": "stdout",
          "text": [
            "Model: \"sequential\"\n",
            "_________________________________________________________________\n",
            " Layer (type)                Output Shape              Param #   \n",
            "=================================================================\n",
            " embedding (Embedding)       (None, 100, 32)           320000    \n",
            "                                                                 \n",
            " gru (GRU)                   (None, 100, 5)            585       \n",
            "                                                                 \n",
            " gru_1 (GRU)                 (None, 5)                 180       \n",
            "                                                                 \n",
            " dense (Dense)               (None, 1)                 6         \n",
            "                                                                 \n",
            "=================================================================\n",
            "Total params: 320771 (1.22 MB)\n",
            "Trainable params: 320771 (1.22 MB)\n",
            "Non-trainable params: 0 (0.00 Byte)\n",
            "_________________________________________________________________\n"
          ]
        }
      ]
    },
    {
      "cell_type": "code",
      "source": [
        "# Compile the model\n",
        "model.compile(optimizer='adam', loss='binary_crossentropy', metrics=['accuracy'])"
      ],
      "metadata": {
        "id": "MfJHilSQ5yK0"
      },
      "execution_count": 4,
      "outputs": []
    },
    {
      "cell_type": "code",
      "source": [
        "# Train the model\n",
        "history = model.fit(x_train, y_train, epochs=5, batch_size=32, validation_split=0.2)"
      ],
      "metadata": {
        "colab": {
          "base_uri": "https://localhost:8080/"
        },
        "id": "f7K7PUqV5zSZ",
        "outputId": "fc25d693-db0a-4462-9d4e-337d7c91da79"
      },
      "execution_count": 5,
      "outputs": [
        {
          "output_type": "stream",
          "name": "stdout",
          "text": [
            "Epoch 1/5\n",
            "625/625 [==============================] - 35s 50ms/step - loss: 0.5272 - accuracy: 0.7235 - val_loss: 0.4017 - val_accuracy: 0.8258\n",
            "Epoch 2/5\n",
            "625/625 [==============================] - 11s 18ms/step - loss: 0.3096 - accuracy: 0.8785 - val_loss: 0.3788 - val_accuracy: 0.8402\n",
            "Epoch 3/5\n",
            "625/625 [==============================] - 8s 12ms/step - loss: 0.2266 - accuracy: 0.9180 - val_loss: 0.3873 - val_accuracy: 0.8398\n",
            "Epoch 4/5\n",
            "625/625 [==============================] - 9s 14ms/step - loss: 0.1720 - accuracy: 0.9421 - val_loss: 0.4201 - val_accuracy: 0.8412\n",
            "Epoch 5/5\n",
            "625/625 [==============================] - 8s 13ms/step - loss: 0.1323 - accuracy: 0.9585 - val_loss: 0.4661 - val_accuracy: 0.8352\n"
          ]
        }
      ]
    }
  ]
}