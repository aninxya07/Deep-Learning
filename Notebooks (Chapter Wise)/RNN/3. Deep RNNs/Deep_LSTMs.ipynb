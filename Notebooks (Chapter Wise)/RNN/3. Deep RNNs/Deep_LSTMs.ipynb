{
  "nbformat": 4,
  "nbformat_minor": 0,
  "metadata": {
    "colab": {
      "provenance": [],
      "gpuType": "T4"
    },
    "kernelspec": {
      "name": "python3",
      "display_name": "Python 3"
    },
    "language_info": {
      "name": "python"
    },
    "accelerator": "GPU"
  },
  "cells": [
    {
      "cell_type": "code",
      "execution_count": 1,
      "metadata": {
        "id": "yvUlH6k84iuH"
      },
      "outputs": [],
      "source": [
        "import tensorflow as tf\n",
        "from tensorflow import keras\n",
        "from keras.datasets import imdb\n",
        "from keras.preprocessing.sequence import pad_sequences\n",
        "from keras.models import Sequential\n",
        "from keras.layers import Embedding, SimpleRNN, Dense,LSTM,GRU"
      ]
    },
    {
      "cell_type": "code",
      "source": [
        "# Load the IMDb dataset\n",
        "(x_train, y_train), (x_test, y_test) = imdb.load_data(num_words=10000)\n",
        "\n",
        "# Pad sequences to have the same length\n",
        "x_train = pad_sequences(x_train, maxlen=100)\n",
        "x_test = pad_sequences(x_test, maxlen=100)"
      ],
      "metadata": {
        "colab": {
          "base_uri": "https://localhost:8080/"
        },
        "id": "Hou10dhH4sRy",
        "outputId": "04849dba-7a01-4eec-df36-230334bcde16"
      },
      "execution_count": 2,
      "outputs": [
        {
          "output_type": "stream",
          "name": "stdout",
          "text": [
            "Downloading data from https://storage.googleapis.com/tensorflow/tf-keras-datasets/imdb.npz\n",
            "17464789/17464789 [==============================] - 0s 0us/step\n"
          ]
        }
      ]
    },
    {
      "cell_type": "code",
      "source": [
        "# Define the LSTM model\n",
        "\n",
        "model = Sequential()\n",
        "model.add(Embedding(10000, 32, input_length = 100))\n",
        "model.add(LSTM(5, return_sequences = True))\n",
        "model.add(LSTM(5))\n",
        "model.add(Dense(1, activation = 'sigmoid'))\n",
        "\n",
        "model.summary()"
      ],
      "metadata": {
        "colab": {
          "base_uri": "https://localhost:8080/"
        },
        "id": "_UEUwzRJ4zSu",
        "outputId": "b02b8077-6ba4-486e-e49d-c63ed7f0a140"
      },
      "execution_count": 3,
      "outputs": [
        {
          "output_type": "stream",
          "name": "stdout",
          "text": [
            "Model: \"sequential\"\n",
            "_________________________________________________________________\n",
            " Layer (type)                Output Shape              Param #   \n",
            "=================================================================\n",
            " embedding (Embedding)       (None, 100, 32)           320000    \n",
            "                                                                 \n",
            " lstm (LSTM)                 (None, 100, 5)            760       \n",
            "                                                                 \n",
            " lstm_1 (LSTM)               (None, 5)                 220       \n",
            "                                                                 \n",
            " dense (Dense)               (None, 1)                 6         \n",
            "                                                                 \n",
            "=================================================================\n",
            "Total params: 320986 (1.22 MB)\n",
            "Trainable params: 320986 (1.22 MB)\n",
            "Non-trainable params: 0 (0.00 Byte)\n",
            "_________________________________________________________________\n"
          ]
        }
      ]
    },
    {
      "cell_type": "code",
      "source": [
        "# Compile the model\n",
        "model.compile(optimizer='adam', loss='binary_crossentropy', metrics=['accuracy'])"
      ],
      "metadata": {
        "id": "_QS1if2G44OV"
      },
      "execution_count": 4,
      "outputs": []
    },
    {
      "cell_type": "code",
      "source": [
        "# Train the model\n",
        "history = model.fit(x_train, y_train, epochs=5, batch_size=32, validation_split=0.2)"
      ],
      "metadata": {
        "colab": {
          "base_uri": "https://localhost:8080/"
        },
        "id": "tc5-VLeG457E",
        "outputId": "878c3d20-a4b4-4847-eb76-7da3ebe52f06"
      },
      "execution_count": 5,
      "outputs": [
        {
          "output_type": "stream",
          "name": "stdout",
          "text": [
            "Epoch 1/5\n",
            "625/625 [==============================] - 42s 60ms/step - loss: 0.5012 - accuracy: 0.7651 - val_loss: 0.4248 - val_accuracy: 0.8206\n",
            "Epoch 2/5\n",
            "625/625 [==============================] - 13s 20ms/step - loss: 0.3169 - accuracy: 0.8810 - val_loss: 0.3774 - val_accuracy: 0.8398\n",
            "Epoch 3/5\n",
            "625/625 [==============================] - 10s 16ms/step - loss: 0.2277 - accuracy: 0.9215 - val_loss: 0.3880 - val_accuracy: 0.8314\n",
            "Epoch 4/5\n",
            "625/625 [==============================] - 9s 14ms/step - loss: 0.1715 - accuracy: 0.9427 - val_loss: 0.4295 - val_accuracy: 0.8344\n",
            "Epoch 5/5\n",
            "625/625 [==============================] - 8s 14ms/step - loss: 0.1222 - accuracy: 0.9638 - val_loss: 0.4863 - val_accuracy: 0.8260\n"
          ]
        }
      ]
    }
  ]
}