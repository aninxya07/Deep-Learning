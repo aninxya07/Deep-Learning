{
  "nbformat": 4,
  "nbformat_minor": 0,
  "metadata": {
    "colab": {
      "provenance": [],
      "gpuType": "T4"
    },
    "kernelspec": {
      "name": "python3",
      "display_name": "Python 3"
    },
    "language_info": {
      "name": "python"
    },
    "accelerator": "GPU"
  },
  "cells": [
    {
      "cell_type": "code",
      "execution_count": 5,
      "metadata": {
        "id": "weJAgo7JiDpV"
      },
      "outputs": [],
      "source": [
        "import tensorflow as tf\n",
        "from tensorflow import keras\n",
        "from keras.datasets import imdb\n",
        "from keras.preprocessing.sequence import pad_sequences\n",
        "from keras.models import Sequential\n",
        "from keras.layers import Embedding, SimpleRNN, Dense,LSTM,GRU"
      ]
    },
    {
      "cell_type": "code",
      "source": [
        "# Load the IMDb dataset\n",
        "(x_train, y_train), (x_test, y_test) = imdb.load_data(num_words=10000)\n",
        "\n",
        "# Pad sequences to have the same length\n",
        "x_train = pad_sequences(x_train, maxlen=100)\n",
        "x_test = pad_sequences(x_test, maxlen=100)"
      ],
      "metadata": {
        "id": "HAM-rBnFQaJu"
      },
      "execution_count": 6,
      "outputs": []
    },
    {
      "cell_type": "code",
      "source": [
        "# Define the RNN model\n",
        "\n",
        "model = Sequential()\n",
        "model.add(Embedding(10000, 32, input_length = 100))     # Embedding layer to convert words to vectors\n",
        "model.add(SimpleRNN(5, return_sequences = True))        # RNN layer with 5 units\n",
        "model.add(SimpleRNN(5))                                 # Another RNN layer with 5 units\n",
        "model.add(Dense(1, activation = 'sigmoid'))             # Output layer for binary classification\n",
        "\n",
        "model.summary()"
      ],
      "metadata": {
        "id": "4xJ6VPik2cFR",
        "outputId": "e902ad41-5048-4741-e197-86cf19b78609",
        "colab": {
          "base_uri": "https://localhost:8080/"
        }
      },
      "execution_count": 7,
      "outputs": [
        {
          "output_type": "stream",
          "name": "stdout",
          "text": [
            "Model: \"sequential_2\"\n",
            "_________________________________________________________________\n",
            " Layer (type)                Output Shape              Param #   \n",
            "=================================================================\n",
            " embedding_2 (Embedding)     (None, 100, 32)           320000    \n",
            "                                                                 \n",
            " simple_rnn_4 (SimpleRNN)    (None, 100, 5)            190       \n",
            "                                                                 \n",
            " simple_rnn_5 (SimpleRNN)    (None, 5)                 55        \n",
            "                                                                 \n",
            " dense_2 (Dense)             (None, 1)                 6         \n",
            "                                                                 \n",
            "=================================================================\n",
            "Total params: 320251 (1.22 MB)\n",
            "Trainable params: 320251 (1.22 MB)\n",
            "Non-trainable params: 0 (0.00 Byte)\n",
            "_________________________________________________________________\n"
          ]
        }
      ]
    },
    {
      "cell_type": "code",
      "source": [
        "# Compile the model\n",
        "model.compile(optimizer='adam', loss='binary_crossentropy', metrics=['accuracy'])"
      ],
      "metadata": {
        "id": "ygDT30CaQimm"
      },
      "execution_count": 8,
      "outputs": []
    },
    {
      "cell_type": "code",
      "source": [
        "# Train the model\n",
        "history = model.fit(x_train, y_train, epochs=5, batch_size=32, validation_split=0.2)"
      ],
      "metadata": {
        "colab": {
          "base_uri": "https://localhost:8080/"
        },
        "id": "NwRJ_HduQiyr",
        "outputId": "8e0a17e2-6764-44a6-e1e9-aacb17716ef4"
      },
      "execution_count": 9,
      "outputs": [
        {
          "output_type": "stream",
          "name": "stdout",
          "text": [
            "Epoch 1/5\n",
            "625/625 [==============================] - 129s 198ms/step - loss: 0.4691 - accuracy: 0.7840 - val_loss: 0.4053 - val_accuracy: 0.8246\n",
            "Epoch 2/5\n",
            "625/625 [==============================] - 96s 153ms/step - loss: 0.3120 - accuracy: 0.8783 - val_loss: 0.4096 - val_accuracy: 0.8284\n",
            "Epoch 3/5\n",
            "625/625 [==============================] - 97s 155ms/step - loss: 0.2254 - accuracy: 0.9176 - val_loss: 0.4458 - val_accuracy: 0.8198\n",
            "Epoch 4/5\n",
            "625/625 [==============================] - 94s 151ms/step - loss: 0.1650 - accuracy: 0.9448 - val_loss: 0.5105 - val_accuracy: 0.8134\n",
            "Epoch 5/5\n",
            "625/625 [==============================] - 97s 156ms/step - loss: 0.1218 - accuracy: 0.9616 - val_loss: 0.5679 - val_accuracy: 0.7986\n"
          ]
        }
      ]
    }
  ]
}